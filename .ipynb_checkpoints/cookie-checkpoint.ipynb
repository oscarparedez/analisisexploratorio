{
 "cells": [
  {
   "cell_type": "code",
   "execution_count": 1,
   "id": "867f33e5",
   "metadata": {},
   "outputs": [
    {
     "data": {
      "text/html": [
       "<div>\n",
       "<style scoped>\n",
       "    .dataframe tbody tr th:only-of-type {\n",
       "        vertical-align: middle;\n",
       "    }\n",
       "\n",
       "    .dataframe tbody tr th {\n",
       "        vertical-align: top;\n",
       "    }\n",
       "\n",
       "    .dataframe thead th {\n",
       "        text-align: right;\n",
       "    }\n",
       "</style>\n",
       "<table border=\"1\" class=\"dataframe\">\n",
       "  <thead>\n",
       "    <tr style=\"text-align: right;\">\n",
       "      <th></th>\n",
       "      <th>id</th>\n",
       "      <th>budget</th>\n",
       "      <th>revenue</th>\n",
       "      <th>runtime</th>\n",
       "      <th>popularity</th>\n",
       "      <th>voteAvg</th>\n",
       "      <th>voteCount</th>\n",
       "      <th>genresAmount</th>\n",
       "      <th>productionCoAmount</th>\n",
       "      <th>productionCountriesAmount</th>\n",
       "      <th>actorsAmount</th>\n",
       "    </tr>\n",
       "  </thead>\n",
       "  <tbody>\n",
       "    <tr>\n",
       "      <th>count</th>\n",
       "      <td>10000.000000</td>\n",
       "      <td>1.000000e+04</td>\n",
       "      <td>1.000000e+04</td>\n",
       "      <td>10000.000000</td>\n",
       "      <td>10000.000000</td>\n",
       "      <td>10000.000000</td>\n",
       "      <td>10000.000000</td>\n",
       "      <td>10000.000000</td>\n",
       "      <td>10000.000000</td>\n",
       "      <td>10000.000000</td>\n",
       "      <td>10000.000000</td>\n",
       "    </tr>\n",
       "    <tr>\n",
       "      <th>mean</th>\n",
       "      <td>249876.829300</td>\n",
       "      <td>1.855163e+07</td>\n",
       "      <td>5.673793e+07</td>\n",
       "      <td>100.268100</td>\n",
       "      <td>51.393907</td>\n",
       "      <td>6.483490</td>\n",
       "      <td>1342.381800</td>\n",
       "      <td>2.596500</td>\n",
       "      <td>3.171400</td>\n",
       "      <td>1.751000</td>\n",
       "      <td>2147.666600</td>\n",
       "    </tr>\n",
       "    <tr>\n",
       "      <th>std</th>\n",
       "      <td>257380.109004</td>\n",
       "      <td>3.662669e+07</td>\n",
       "      <td>1.495854e+08</td>\n",
       "      <td>27.777829</td>\n",
       "      <td>216.729552</td>\n",
       "      <td>0.984274</td>\n",
       "      <td>2564.196637</td>\n",
       "      <td>1.154565</td>\n",
       "      <td>2.539738</td>\n",
       "      <td>3.012093</td>\n",
       "      <td>37200.075802</td>\n",
       "    </tr>\n",
       "    <tr>\n",
       "      <th>min</th>\n",
       "      <td>5.000000</td>\n",
       "      <td>0.000000e+00</td>\n",
       "      <td>0.000000e+00</td>\n",
       "      <td>0.000000</td>\n",
       "      <td>4.258000</td>\n",
       "      <td>1.300000</td>\n",
       "      <td>1.000000</td>\n",
       "      <td>0.000000</td>\n",
       "      <td>0.000000</td>\n",
       "      <td>0.000000</td>\n",
       "      <td>0.000000</td>\n",
       "    </tr>\n",
       "    <tr>\n",
       "      <th>25%</th>\n",
       "      <td>12286.500000</td>\n",
       "      <td>0.000000e+00</td>\n",
       "      <td>0.000000e+00</td>\n",
       "      <td>90.000000</td>\n",
       "      <td>14.577750</td>\n",
       "      <td>5.900000</td>\n",
       "      <td>120.000000</td>\n",
       "      <td>2.000000</td>\n",
       "      <td>2.000000</td>\n",
       "      <td>1.000000</td>\n",
       "      <td>13.000000</td>\n",
       "    </tr>\n",
       "    <tr>\n",
       "      <th>50%</th>\n",
       "      <td>152558.000000</td>\n",
       "      <td>5.000000e+05</td>\n",
       "      <td>1.631245e+05</td>\n",
       "      <td>100.000000</td>\n",
       "      <td>21.905500</td>\n",
       "      <td>6.500000</td>\n",
       "      <td>415.000000</td>\n",
       "      <td>3.000000</td>\n",
       "      <td>3.000000</td>\n",
       "      <td>1.000000</td>\n",
       "      <td>21.000000</td>\n",
       "    </tr>\n",
       "    <tr>\n",
       "      <th>75%</th>\n",
       "      <td>452021.750000</td>\n",
       "      <td>2.000000e+07</td>\n",
       "      <td>4.479661e+07</td>\n",
       "      <td>113.000000</td>\n",
       "      <td>40.654000</td>\n",
       "      <td>7.200000</td>\n",
       "      <td>1316.000000</td>\n",
       "      <td>3.000000</td>\n",
       "      <td>4.000000</td>\n",
       "      <td>2.000000</td>\n",
       "      <td>36.000000</td>\n",
       "    </tr>\n",
       "    <tr>\n",
       "      <th>max</th>\n",
       "      <td>922260.000000</td>\n",
       "      <td>3.800000e+08</td>\n",
       "      <td>2.847246e+09</td>\n",
       "      <td>750.000000</td>\n",
       "      <td>11474.647000</td>\n",
       "      <td>10.000000</td>\n",
       "      <td>30788.000000</td>\n",
       "      <td>16.000000</td>\n",
       "      <td>89.000000</td>\n",
       "      <td>155.000000</td>\n",
       "      <td>919590.000000</td>\n",
       "    </tr>\n",
       "  </tbody>\n",
       "</table>\n",
       "</div>"
      ],
      "text/plain": [
       "                  id        budget       revenue       runtime    popularity  \\\n",
       "count   10000.000000  1.000000e+04  1.000000e+04  10000.000000  10000.000000   \n",
       "mean   249876.829300  1.855163e+07  5.673793e+07    100.268100     51.393907   \n",
       "std    257380.109004  3.662669e+07  1.495854e+08     27.777829    216.729552   \n",
       "min         5.000000  0.000000e+00  0.000000e+00      0.000000      4.258000   \n",
       "25%     12286.500000  0.000000e+00  0.000000e+00     90.000000     14.577750   \n",
       "50%    152558.000000  5.000000e+05  1.631245e+05    100.000000     21.905500   \n",
       "75%    452021.750000  2.000000e+07  4.479661e+07    113.000000     40.654000   \n",
       "max    922260.000000  3.800000e+08  2.847246e+09    750.000000  11474.647000   \n",
       "\n",
       "            voteAvg     voteCount  genresAmount  productionCoAmount  \\\n",
       "count  10000.000000  10000.000000  10000.000000        10000.000000   \n",
       "mean       6.483490   1342.381800      2.596500            3.171400   \n",
       "std        0.984274   2564.196637      1.154565            2.539738   \n",
       "min        1.300000      1.000000      0.000000            0.000000   \n",
       "25%        5.900000    120.000000      2.000000            2.000000   \n",
       "50%        6.500000    415.000000      3.000000            3.000000   \n",
       "75%        7.200000   1316.000000      3.000000            4.000000   \n",
       "max       10.000000  30788.000000     16.000000           89.000000   \n",
       "\n",
       "       productionCountriesAmount   actorsAmount  \n",
       "count               10000.000000   10000.000000  \n",
       "mean                    1.751000    2147.666600  \n",
       "std                     3.012093   37200.075802  \n",
       "min                     0.000000       0.000000  \n",
       "25%                     1.000000      13.000000  \n",
       "50%                     1.000000      21.000000  \n",
       "75%                     2.000000      36.000000  \n",
       "max                   155.000000  919590.000000  "
      ]
     },
     "execution_count": 1,
     "metadata": {},
     "output_type": "execute_result"
    }
   ],
   "source": [
    "import pandas as pd\n",
    "import scipy\n",
    "import numpy as np\n",
    "import matplotlib.pyplot as plt\n",
    "from pandasql import sqldf\n",
    "pd.set_option('display.max_columns', None)\n",
    "\n",
    "movies = pd.read_csv('movies.csv', encoding='cp1252')\n",
    "movies.describe()"
   ]
  },
  {
   "cell_type": "code",
   "execution_count": 2,
   "id": "f747aff6",
   "metadata": {},
   "outputs": [
    {
     "data": {
      "image/png": "[encoded data removed]",
      "text/plain": [
       "<Figure size 432x288 with 1 Axes>"
      ]
     },
     "metadata": {
      "needs_background": "light"
     },
     "output_type": "display_data"
    },
    {
     "data": {
      "image/png": "[encoded data removed]",
      "text/plain": [
       "<Figure size 432x288 with 1 Axes>"
      ]
     },
     "metadata": {
      "needs_background": "light"
     },
     "output_type": "display_data"
    },
    {
     "data": {
      "image/png": "[encoded data removed]",
      "text/plain": [
       "<Figure size 432x288 with 1 Axes>"
      ]
     },
     "metadata": {
      "needs_background": "light"
     },
     "output_type": "display_data"
    },
    {
     "data": {
      "image/png": "[encoded data removed]",
      "text/plain": [
       "<Figure size 432x288 with 1 Axes>"
      ]
     },
     "metadata": {
      "needs_background": "light"
     },
     "output_type": "display_data"
    },
    {
     "data": {
      "image/png": "[encoded data removed]",
      "text/plain": [
       "<Figure size 432x288 with 1 Axes>"
      ]
     },
     "metadata": {
      "needs_background": "light"
     },
     "output_type": "display_data"
    },
    {
     "data": {
      "image/png": "[encoded data removed]",
      "text/plain": [
       "<Figure size 432x288 with 1 Axes>"
      ]
     },
     "metadata": {
      "needs_background": "light"
     },
     "output_type": "display_data"
    },
    {
     "data": {
      "image/png": "[encoded data removed]",
      "text/plain": [
       "<Figure size 432x288 with 1 Axes>"
      ]
     },
     "metadata": {
      "needs_background": "light"
     },
     "output_type": "display_data"
    },
    {
     "data": {
      "image/png": "[encoded data removed]",
      "text/plain": [
       "<Figure size 432x288 with 1 Axes>"
      ]
     },
     "metadata": {
      "needs_background": "light"
     },
     "output_type": "display_data"
    },
    {
     "data": {
      "image/png": "[encoded data removed]",
      "text/plain": [
       "<Figure size 432x288 with 1 Axes>"
      ]
     },
     "metadata": {
      "needs_background": "light"
     },
     "output_type": "display_data"
    },
    {
     "data": {
      "image/png": "[encoded data removed]",
      "text/plain": [
       "<Figure size 432x288 with 1 Axes>"
      ]
     },
     "metadata": {
      "needs_background": "light"
     },
     "output_type": "display_data"
    },
    {
     "data": {
      "image/png": "[encoded data removed]",
      "text/plain": [
       "<Figure size 432x288 with 1 Axes>"
      ]
     },
     "metadata": {
      "needs_background": "light"
     },
     "output_type": "display_data"
    }
   ],
   "source": [
    "cuantitativas = ['budget', 'revenue', 'runtime', 'genresAmount', 'productionCoAmount', 'productionCountriesAmount', 'voteCount', 'voteAvg', 'actorsAmount']\n",
    "cuantitativasEspeciales = ['actorsPopularity']\n",
    "cuantitativasConErrores = ['castWomenAmount', 'castMenAmount']\n",
    "cualitativas = ['id', 'popularity', 'originalTitle', 'originalLanguage', 'title', 'homePage', 'video', 'releaseDate']\n",
    "cualitativasEspeciales = ['genres', 'productionCompany', 'productionCompanyCountry', 'productionCountry']\n",
    "    \n",
    "for col in cuantitativas:\n",
    "    movies.hist(column=col)\n",
    "\n",
    "for col in cuantitativasConErrores:\n",
    "    newArray = [i for i in movies[col].to_numpy() if i.isnumeric()]\n",
    "    plt.hist(newArray, bins=\"auto\")\n",
    "    plt.show()\n",
    "    \n",
    "for col in cuantitativasEspeciales:\n",
    "    df = pd.DataFrame(movies[col].str.split('|', expand=True).stack().value_counts())\n",
    "    df.hist(column=0, bins=np.linspace(0,120))\n",
    "    plt.suptitle(col)"
   ]
  },
  {
   "cell_type": "code",
   "execution_count": 9,
   "id": "d65c78ad",
   "metadata": {},
   "outputs": [
    {
     "name": "stdout",
     "output_type": "stream",
     "text": [
      "                    0\n",
      "Drama            3789\n",
      "Comedy           3018\n",
      "Action           2632\n",
      "Thriller         2565\n",
      "Adventure        1769\n",
      "Horror           1512\n",
      "Animation        1460\n",
      "Romance          1428\n",
      "Family           1407\n",
      "Fantasy          1284\n",
      "Science Fiction  1267\n",
      "Crime            1225\n",
      "Mystery           804\n",
      "History           406\n",
      "Music             315\n",
      "Documentary       299\n",
      "TV Movie          276\n",
      "War               275\n",
      "Western           120\n",
      "                         0\n",
      "Warner Bros. Pictures  480\n",
      "Universal Pictures     466\n",
      "Columbia Pictures      347\n",
      "Paramount              320\n",
      "20th Century Fox       310\n",
      "...                    ...\n",
      "Production Group         1\n",
      "C.R.C.                   1\n",
      "Cardinal Pictures        1\n",
      "Artisti Associati        1\n",
      "Elefantec Global         1\n",
      "\n",
      "[10142 rows x 1 columns]\n",
      "        0\n",
      "US  12675\n",
      "     7735\n",
      "JP   1604\n",
      "FR   1478\n",
      "GB   1413\n",
      "..    ...\n",
      "SK      1\n",
      "XC      1\n",
      "PY      1\n",
      "SI      1\n",
      "EC      1\n",
      "\n",
      "[86 rows x 1 columns]\n",
      "                             0\n",
      "United States of America  6788\n",
      "United Kingdom            1171\n",
      "Japan                      731\n",
      "France                     668\n",
      "Canada                     634\n",
      "...                        ...\n",
      "Tunisia                      1\n",
      "Libyan Arab Jamahiriya       1\n",
      "Kuwait                       1\n",
      "Vietnam                      1\n",
      "Slovakia                     1\n",
      "\n",
      "[111 rows x 1 columns]\n",
      "5         1\n",
      "377690    1\n",
      "376866    1\n",
      "376867    1\n",
      "377263    1\n",
      "         ..\n",
      "22832     1\n",
      "22843     1\n",
      "22855     1\n",
      "22881     1\n",
      "922260    1\n",
      "Name: id, Length: 10000, dtype: int64\n",
      "9.336     4\n",
      "12.273    4\n",
      "11.878    4\n",
      "13.196    4\n",
      "14.134    4\n",
      "         ..\n",
      "57.905    1\n",
      "22.598    1\n",
      "13.058    1\n",
      "9.713     1\n",
      "83.747    1\n",
      "Name: popularity, Length: 8972, dtype: int64\n",
      "Pinocchio                                                4\n",
      "Great Expectations                                       3\n",
      "Escape Room                                              3\n",
      "The Courier                                              3\n",
      "Alice in Wonderland                                      3\n",
      "                                                        ..\n",
      "Into the Sun                                             1\n",
      "The Land Before Time X: The Great Longneck Migration     1\n",
      "The Land Before Time XI: Invasion of the Tinysauruses    1\n",
      "Dug's Special Mission                                    1\n",
      "Row 19                                                   1\n",
      "Name: originalTitle, Length: 9760, dtype: int64\n",
      "en    7772\n",
      "ja     644\n",
      "es     425\n",
      "fr     271\n",
      "ko     167\n",
      "zh     119\n",
      "it     100\n",
      "de      84\n",
      "cn      80\n",
      "ru      67\n",
      "pt      43\n",
      "no      28\n",
      "sv      27\n",
      "hi      27\n",
      "da      27\n",
      "nl      18\n",
      "th      17\n",
      "pl      15\n",
      "id      12\n",
      "tr      10\n",
      "fi       8\n",
      "tl       5\n",
      "te       5\n",
      "sr       4\n",
      "is       4\n",
      "fa       3\n",
      "ro       2\n",
      "cs       2\n",
      "el       2\n",
      "uk       2\n",
      "ms       1\n",
      "ml       1\n",
      "ta       1\n",
      "la       1\n",
      "he       1\n",
      "ar       1\n",
      "eu       1\n",
      "bn       1\n",
      "nb       1\n",
      "ca       1\n",
      "Name: originalLanguage, dtype: int64\n",
      "Pinocchio        4\n",
      "Cinderella       4\n",
      "Carrie           3\n",
      "The Courier      3\n",
      "Awake            3\n",
      "                ..\n",
      "Blind Horizon    1\n",
      "Chasing Papi     1\n",
      "The Eye 2        1\n",
      "An Education     1\n",
      "Row 19           1\n",
      "Name: title, Length: 9697, dtype: int64\n",
      "http://www.naruto-movie.com/                          6\n",
      "http://www.thehungergames.movie/                      4\n",
      "http://www.p3m.jp/                                    3\n",
      "http://www.kungfupanda.com/                           3\n",
      "http://kizumonogatari-usa.com/                        3\n",
      "                                                     ..\n",
      "http://www.lemonademouth.com                          1\n",
      "http://warnervideo.com/greenlanternemeraldknights/    1\n",
      "http://www.loversguide.com/                           1\n",
      "http://dragontattoo.com/                              1\n",
      "https://www.netflix.com/title/81425229                1\n",
      "Name: homePage, Length: 4125, dtype: int64\n",
      "False    9430\n",
      "True       84\n",
      "Name: video, dtype: int64\n",
      "2021-10-08    15\n",
      "2021-02-12    15\n",
      "2021-10-01    14\n",
      "2021-11-12    12\n",
      "2019-11-08    11\n",
      "              ..\n",
      "2006-10-21     1\n",
      "1948-05-27     1\n",
      "1998-08-04     1\n",
      "2008-08-29     1\n",
      "2021-10-31     1\n",
      "Name: releaseDate, Length: 5568, dtype: int64\n"
     ]
    }
   ],
   "source": [
    "for col in cualitativasEspeciales:\n",
    "    df = pd.DataFrame(movies[col].str.split('|', expand=True).stack().value_counts())\n",
    "    print(df)\n",
    "    \n",
    "for col in cualitativas:\n",
    "    df = movies[col].value_counts()\n",
    "    print(df)"
   ]
  },
  {
   "cell_type": "code",
   "execution_count": 10,
   "id": "abf6b57b",
   "metadata": {},
   "outputs": [
    {
     "data": {
      "text/html": [
       "<div>\n",
       "<style scoped>\n",
       "    .dataframe tbody tr th:only-of-type {\n",
       "        vertical-align: middle;\n",
       "    }\n",
       "\n",
       "    .dataframe tbody tr th {\n",
       "        vertical-align: top;\n",
       "    }\n",
       "\n",
       "    .dataframe thead th {\n",
       "        text-align: right;\n",
       "    }\n",
       "</style>\n",
       "<table border=\"1\" class=\"dataframe\">\n",
       "  <thead>\n",
       "    <tr style=\"text-align: right;\">\n",
       "      <th></th>\n",
       "      <th>originalTitle</th>\n",
       "      <th>budget</th>\n",
       "    </tr>\n",
       "  </thead>\n",
       "  <tbody>\n",
       "    <tr>\n",
       "      <th>716</th>\n",
       "      <td>Pirates of the Caribbean: On Stranger Tides</td>\n",
       "      <td>380000000</td>\n",
       "    </tr>\n",
       "    <tr>\n",
       "      <th>4710</th>\n",
       "      <td>Avengers: Age of Ultron</td>\n",
       "      <td>365000000</td>\n",
       "    </tr>\n",
       "    <tr>\n",
       "      <th>5952</th>\n",
       "      <td>Avengers: Endgame</td>\n",
       "      <td>356000000</td>\n",
       "    </tr>\n",
       "    <tr>\n",
       "      <th>4953</th>\n",
       "      <td>Justice League</td>\n",
       "      <td>300000000</td>\n",
       "    </tr>\n",
       "    <tr>\n",
       "      <th>5953</th>\n",
       "      <td>Avengers: Infinity War</td>\n",
       "      <td>300000000</td>\n",
       "    </tr>\n",
       "    <tr>\n",
       "      <th>163</th>\n",
       "      <td>Pirates of the Caribbean: At World's End</td>\n",
       "      <td>300000000</td>\n",
       "    </tr>\n",
       "    <tr>\n",
       "      <th>607</th>\n",
       "      <td>Superman Returns</td>\n",
       "      <td>270000000</td>\n",
       "    </tr>\n",
       "    <tr>\n",
       "      <th>7134</th>\n",
       "      <td>The Lion King</td>\n",
       "      <td>260000000</td>\n",
       "    </tr>\n",
       "    <tr>\n",
       "      <th>3791</th>\n",
       "      <td>Tangled</td>\n",
       "      <td>260000000</td>\n",
       "    </tr>\n",
       "    <tr>\n",
       "      <th>280</th>\n",
       "      <td>Spider-Man 3</td>\n",
       "      <td>258000000</td>\n",
       "    </tr>\n",
       "  </tbody>\n",
       "</table>\n",
       "</div>"
      ],
      "text/plain": [
       "                                    originalTitle     budget\n",
       "716   Pirates of the Caribbean: On Stranger Tides  380000000\n",
       "4710                      Avengers: Age of Ultron  365000000\n",
       "5952                            Avengers: Endgame  356000000\n",
       "4953                               Justice League  300000000\n",
       "5953                       Avengers: Infinity War  300000000\n",
       "163      Pirates of the Caribbean: At World's End  300000000\n",
       "607                              Superman Returns  270000000\n",
       "7134                                The Lion King  260000000\n",
       "3791                                      Tangled  260000000\n",
       "280                                  Spider-Man 3  258000000"
      ]
     },
     "execution_count": 10,
     "metadata": {},
     "output_type": "execute_result"
    }
   ],
   "source": [
    "movies.sort_values(by='budget', ascending=False)[['originalTitle','budget']].head(10)"
   ]
  },
  {
   "cell_type": "code",
   "execution_count": 11,
   "id": "f0991dcf",
   "metadata": {},
   "outputs": [
    {
     "data": {
      "text/html": [
       "<div>\n",
       "<style scoped>\n",
       "    .dataframe tbody tr th:only-of-type {\n",
       "        vertical-align: middle;\n",
       "    }\n",
       "\n",
       "    .dataframe tbody tr th {\n",
       "        vertical-align: top;\n",
       "    }\n",
       "\n",
       "    .dataframe thead th {\n",
       "        text-align: right;\n",
       "    }\n",
       "</style>\n",
       "<table border=\"1\" class=\"dataframe\">\n",
       "  <thead>\n",
       "    <tr style=\"text-align: right;\">\n",
       "      <th></th>\n",
       "      <th>originalTitle</th>\n",
       "      <th>revenue</th>\n",
       "    </tr>\n",
       "  </thead>\n",
       "  <tbody>\n",
       "    <tr>\n",
       "      <th>3210</th>\n",
       "      <td>Avatar</td>\n",
       "      <td>2.847246e+09</td>\n",
       "    </tr>\n",
       "    <tr>\n",
       "      <th>5952</th>\n",
       "      <td>Avengers: Endgame</td>\n",
       "      <td>2.797801e+09</td>\n",
       "    </tr>\n",
       "    <tr>\n",
       "      <th>307</th>\n",
       "      <td>Titanic</td>\n",
       "      <td>2.187464e+09</td>\n",
       "    </tr>\n",
       "    <tr>\n",
       "      <th>4947</th>\n",
       "      <td>Star Wars: The Force Awakens</td>\n",
       "      <td>2.068224e+09</td>\n",
       "    </tr>\n",
       "    <tr>\n",
       "      <th>5953</th>\n",
       "      <td>Avengers: Infinity War</td>\n",
       "      <td>2.046240e+09</td>\n",
       "    </tr>\n",
       "    <tr>\n",
       "      <th>4914</th>\n",
       "      <td>Jurassic World</td>\n",
       "      <td>1.671713e+09</td>\n",
       "    </tr>\n",
       "    <tr>\n",
       "      <th>7134</th>\n",
       "      <td>The Lion King</td>\n",
       "      <td>1.667635e+09</td>\n",
       "    </tr>\n",
       "    <tr>\n",
       "      <th>9049</th>\n",
       "      <td>Spider-Man: No Way Home</td>\n",
       "      <td>1.631853e+09</td>\n",
       "    </tr>\n",
       "    <tr>\n",
       "      <th>3397</th>\n",
       "      <td>The Avengers</td>\n",
       "      <td>1.518816e+09</td>\n",
       "    </tr>\n",
       "    <tr>\n",
       "      <th>5087</th>\n",
       "      <td>Furious 7</td>\n",
       "      <td>1.515048e+09</td>\n",
       "    </tr>\n",
       "  </tbody>\n",
       "</table>\n",
       "</div>"
      ],
      "text/plain": [
       "                     originalTitle       revenue\n",
       "3210                        Avatar  2.847246e+09\n",
       "5952             Avengers: Endgame  2.797801e+09\n",
       "307                        Titanic  2.187464e+09\n",
       "4947  Star Wars: The Force Awakens  2.068224e+09\n",
       "5953        Avengers: Infinity War  2.046240e+09\n",
       "4914                Jurassic World  1.671713e+09\n",
       "7134                 The Lion King  1.667635e+09\n",
       "9049       Spider-Man: No Way Home  1.631853e+09\n",
       "3397                  The Avengers  1.518816e+09\n",
       "5087                     Furious 7  1.515048e+09"
      ]
     },
     "execution_count": 11,
     "metadata": {},
     "output_type": "execute_result"
    }
   ],
   "source": [
    "movies.sort_values(by='revenue', ascending=False)[['originalTitle','revenue']].head(10)"
   ]
  },
  {
   "cell_type": "code",
   "execution_count": 12,
   "id": "f544f63f",
   "metadata": {},
   "outputs": [
    {
     "data": {
      "text/html": [
       "<div>\n",
       "<style scoped>\n",
       "    .dataframe tbody tr th:only-of-type {\n",
       "        vertical-align: middle;\n",
       "    }\n",
       "\n",
       "    .dataframe tbody tr th {\n",
       "        vertical-align: top;\n",
       "    }\n",
       "\n",
       "    .dataframe thead th {\n",
       "        text-align: right;\n",
       "    }\n",
       "</style>\n",
       "<table border=\"1\" class=\"dataframe\">\n",
       "  <thead>\n",
       "    <tr style=\"text-align: right;\">\n",
       "      <th></th>\n",
       "      <th>originalTitle</th>\n",
       "      <th>voteCount</th>\n",
       "    </tr>\n",
       "  </thead>\n",
       "  <tbody>\n",
       "    <tr>\n",
       "      <th>3511</th>\n",
       "      <td>Inception</td>\n",
       "      <td>30788</td>\n",
       "    </tr>\n",
       "  </tbody>\n",
       "</table>\n",
       "</div>"
      ],
      "text/plain": [
       "     originalTitle  voteCount\n",
       "3511     Inception      30788"
      ]
     },
     "execution_count": 12,
     "metadata": {},
     "output_type": "execute_result"
    }
   ],
   "source": [
    "movies.sort_values(by='voteCount', ascending=False)[['originalTitle','voteCount']].head(1)"
   ]
  },
  {
   "cell_type": "code",
   "execution_count": 13,
   "id": "802fcb28",
   "metadata": {},
   "outputs": [
    {
     "data": {
      "text/html": [
       "<div>\n",
       "<style scoped>\n",
       "    .dataframe tbody tr th:only-of-type {\n",
       "        vertical-align: middle;\n",
       "    }\n",
       "\n",
       "    .dataframe tbody tr th {\n",
       "        vertical-align: top;\n",
       "    }\n",
       "\n",
       "    .dataframe thead th {\n",
       "        text-align: right;\n",
       "    }\n",
       "</style>\n",
       "<table border=\"1\" class=\"dataframe\">\n",
       "  <thead>\n",
       "    <tr style=\"text-align: right;\">\n",
       "      <th></th>\n",
       "      <th>originalTitle</th>\n",
       "      <th>voteCount</th>\n",
       "    </tr>\n",
       "  </thead>\n",
       "  <tbody>\n",
       "    <tr>\n",
       "      <th>9246</th>\n",
       "      <td>Steven Universe: The Movie: Behind the Curtain</td>\n",
       "      <td>1</td>\n",
       "    </tr>\n",
       "  </tbody>\n",
       "</table>\n",
       "</div>"
      ],
      "text/plain": [
       "                                       originalTitle  voteCount\n",
       "9246  Steven Universe: The Movie: Behind the Curtain          1"
      ]
     },
     "execution_count": 13,
     "metadata": {},
     "output_type": "execute_result"
    }
   ],
   "source": [
    "movies.sort_values(by='voteCount', ascending=True)[['originalTitle','voteCount']].head(1)"
   ]
  },
  {
   "cell_type": "code",
   "execution_count": 31,
   "id": "ffba2f47",
   "metadata": {},
   "outputs": [
    {
     "name": "stdout",
     "output_type": "stream",
     "text": [
      "    Year  RECUENTO\n",
      "0   2021       816\n",
      "1   2018       629\n",
      "2   2017       618\n",
      "3   2019       612\n",
      "4   2016       557\n",
      "..   ...       ...\n",
      "94  1926         1\n",
      "95  1922         1\n",
      "96  1921         1\n",
      "97  1920         1\n",
      "98  1902         1\n",
      "\n",
      "[99 rows x 2 columns]\n"
     ]
    },
    {
     "data": {
      "text/plain": [
       "(array([816., 629., 618., 612., 557., 533., 450., 432., 412., 361.]),\n",
       " array([0. , 0.9, 1.8, 2.7, 3.6, 4.5, 5.4, 6.3, 7.2, 8.1, 9. ]),\n",
       " <BarContainer object of 10 artists>)"
      ]
     },
     "execution_count": 31,
     "metadata": {},
     "output_type": "execute_result"
    },
    {
     "data": {
      "image/png": "[encoded data removed]",
      "text/plain": [
       "<Figure size 432x288 with 1 Axes>"
      ]
     },
     "metadata": {
      "needs_background": "light"
     },
     "output_type": "display_data"
    }
   ],
   "source": [
    "output = sqldf(\"select strftime('%Y', releaseDate) as Year, Count(releaseDate) as RECUENTO from movies Group By Year Order by RECUENTO DESC\")\n",
    "print(output)\n",
    "output = sqldf(\"select * from output limit 10\")\n",
    "plt.hist(output.Year, weights=output.RECUENTO)"
   ]
  },
  {
   "cell_type": "code",
   "execution_count": 63,
   "id": "f622740d",
   "metadata": {},
   "outputs": [
    {
     "name": "stdout",
     "output_type": "stream",
     "text": [
      "             cookie       genres\n",
      "Drama             7        Drama\n",
      "Comedy            7       Comedy\n",
      "Action            3       Action\n",
      "Thriller          3     Thriller\n",
      "Romance           3      Romance\n",
      "Fantasy           3      Fantasy\n",
      "Mystery           2      Mystery\n",
      "Adventure         2    Adventure\n",
      "Horror            2       Horror\n",
      "Crime             1        Crime\n",
      "Documentary       1  Documentary\n",
      "Animation         1    Animation\n",
      "Family            1       Family\n"
     ]
    },
    {
     "data": {
      "image/png": "[encoded data removed]",
      "text/plain": [
       "<Figure size 432x288 with 1 Axes>"
      ]
     },
     "metadata": {
      "needs_background": "light"
     },
     "output_type": "display_data"
    }
   ],
   "source": [
    "output = sqldf(\"select *  from movies Order by releaseDate DESC limit 20\")\n",
    "df = pd.DataFrame(output[\"genres\"].str.split('|', expand=True).stack().value_counts())\n",
    "df.columns = [\"cookie\"]\n",
    "df[\"genres\"] = list(df.index)\n",
    "print(df)\n",
    "plt.hist(df.genres, weights=df.cookie)\n",
    "plt.xticks(rotation='vertical')\n",
    "plt.show()"
   ]
  },
  {
   "cell_type": "code",
   "execution_count": 64,
   "id": "a8631c87",
   "metadata": {},
   "outputs": [
    {
     "name": "stdout",
     "output_type": "stream",
     "text": [
      "             genres  SUM(GANANCIAS)\n",
      "0   Science Fiction    2.454535e+10\n",
      "1           Fantasy    4.062572e+10\n",
      "2         Adventure    6.199859e+10\n",
      "3            Action    4.360176e+10\n",
      "4            Family    4.565568e+10\n",
      "5            Comedy    4.332341e+10\n",
      "6         Animation    3.281048e+10\n",
      "7           Romance    1.582451e+10\n",
      "8             Drama    3.424891e+10\n",
      "9          Thriller    2.159055e+10\n",
      "10            Crime    1.257011e+10\n",
      "11          Mystery    1.164042e+10\n",
      "12            Music    4.982248e+09\n",
      "13           Horror    6.570139e+09\n",
      "14          Western    2.302950e+09\n",
      "15              War    6.010026e+09\n",
      "16          History    5.401406e+09\n",
      "17      Documentary    5.394317e+08\n",
      "18         TV Movie   -2.097475e+08\n",
      "19             None    0.000000e+00\n"
     ]
    }
   ],
   "source": [
    "output = sqldf(\"select genres, (revenue - budget) as GANANCIAS from movies Group By genres Order by GANANCIAS DESC\")\n",
    "output = output.assign(genres=output.genres.str.split('|')[0])\n",
    "output = output.explode(\"genres\")\n",
    "output = sqldf(\"select genres, SUM(GANANCIAS) from output Group By genres Order by GANANCIAS DESC\")\n",
    "print(output)"
   ]
  },
  {
   "cell_type": "code",
   "execution_count": null,
   "id": "a78c795e",
   "metadata": {},
   "outputs": [],
   "source": []
  }
 ],
 "metadata": {
  "kernelspec": {
   "display_name": "Python 3 (ipykernel)",
   "language": "python",
   "name": "python3"
  },
  "language_info": {
   "codemirror_mode": {
    "name": "ipython",
    "version": 3
   },
   "file_extension": ".py",
   "mimetype": "text/x-python",
   "name": "python",
   "nbconvert_exporter": "python",
   "pygments_lexer": "ipython3",
   "version": "3.10.2"
  }
 },
 "nbformat": 4,
 "nbformat_minor": 5
}
